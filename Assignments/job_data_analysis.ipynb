{
 "cells": [
  {
   "cell_type": "code",
   "execution_count": null,
   "id": "e5ac1c86",
   "metadata": {},
   "outputs": [],
   "source": [
    "import pandas as pd \n",
    "\n",
    "class Job_Data_Analysis:\n",
    "    def __init__(self, csv_file):\n",
    "        \"\"\"Initialize with a CSV file and load it into a DataFrame.\"\"\"\n",
    "        try:\n",
    "            self.df = pd.read_csv(csv_file)\n",
    "        except FileNotFoundError:\n",
    "            raise ValueError(\"CSV File not found. Please check the file path.\")\n",
    "        except pd.errors.EmptyDataError:\n",
    "            raise ValueError(\"CSV File is empty. Please provide a valid CSV file.\")\n",
    "        except pd.errors.ParserError:\n",
    "            raise ValueError(\"CSV File is malformed. Please check the file format.\")\n",
    "    \n",
    "    def get_company_locations(self):\n",
    "        \"\"\"Return list of unique company locations.\"\"\"\n",
    "        return self.df['company_location'].unique().tolist()\n",
    "\n",
    "    def get_salary_range_per_emp_type(self, country):\n",
    "        \"\"\"Return DataFrame with min, mean, max salary per employment type for a country.\"\"\"\n",
    "        pass\n",
    "\n",
    "    def get_avg_exp_per_level(self, country):\n",
    "        \"\"\"Return dict with average years of experience per experience level for a country.\"\"\"\n",
    "        pass\n",
    "\n",
    "    def get_num_industry(self):\n",
    "        \"\"\"Return dict with number of industries per country.\"\"\"\n",
    "        pass\n",
    "\n",
    "    def get_benefit_score_range(self):\n",
    "        \"\"\"Return DataFrame with min, mean, max benefit score per country.\"\"\"\n",
    "        pass"
   ]
  },
  {
   "cell_type": "code",
   "execution_count": null,
   "id": "4a3667c5",
   "metadata": {},
   "outputs": [],
   "source": [
    "from job_data_analysis import Job_Data_Analysis\n",
    "if __name__ == \"__main__\":\n",
    "    import sys\n",
    "    import os\n",
    "    csv_path = os.path.join(os.path.dirname(__file__), 'ai_job_dataset.csv')\n",
    "    try:\n",
    "        analysis = Job_Data_Analysis(csv_path)\n",
    "        print(\"DataFrame loaded successfully!\")\n",
    "        print(\"\\nFirst 5 rows:\")\n",
    "        print(analysis.df.head())\n",
    "        print(\"\\nColumns:\")\n",
    "        print(analysis.df.columns)\n",
    "        print(f\"\\nNumber of rows: {len(analysis.df)}\")\n",
    "        print(\"\\nUnique company locations:\")\n",
    "        print(analysis.get_company_locations())\n",
    "    except ValueError as e:\n",
    "        print(f\"Error: {e}\")\n",
    "        sys.exit(1)"
   ]
  }
 ],
 "metadata": {
  "kernelspec": {
   "display_name": "genai_pre",
   "language": "python",
   "name": "python3"
  },
  "language_info": {
   "codemirror_mode": {
    "name": "ipython",
    "version": 3
   },
   "file_extension": ".py",
   "mimetype": "text/x-python",
   "name": "python",
   "nbconvert_exporter": "python",
   "pygments_lexer": "ipython3",
   "version": "3.13.5"
  }
 },
 "nbformat": 4,
 "nbformat_minor": 5
}
