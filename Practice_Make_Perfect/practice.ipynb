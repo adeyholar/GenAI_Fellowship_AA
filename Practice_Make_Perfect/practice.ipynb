{
 "cells": [
  {
   "cell_type": "code",
   "execution_count": null,
   "id": "44d029e5",
   "metadata": {},
   "outputs": [],
   "source": [
    "def say_hello():\n",
    "    print(\"Hello, World!\")\n",
    "\n",
    "say_hello()"
   ]
  },
  {
   "cell_type": "code",
   "execution_count": null,
   "id": "432cbca7",
   "metadata": {},
   "outputs": [],
   "source": [
    "def great_person(name):\n",
    "    print(f\"Hello, {name}!\")\n",
    "\n",
    "great_person(\"Alice\")\n",
    "great_person(\"Bob\")"
   ]
  },
  {
   "cell_type": "code",
   "execution_count": null,
   "id": "d6fb0f8c",
   "metadata": {},
   "outputs": [],
   "source": [
    "def add_number(a, b):\n",
    "    result = a + b\n",
    "    return result\n",
    "\n",
    "#Calling the function and printing the result\n",
    "sum = add_number(5, 10)\n",
    "print(f\"The sum of 5 and 10 is: {sum}\")\n",
    "print(f\"The sum of the number is: {add_number(25, 40)}\")"
   ]
  },
  {
   "cell_type": "code",
   "execution_count": null,
   "id": "b7058ddb",
   "metadata": {},
   "outputs": [],
   "source": [
    "def describe_pet(pet_name, animal_type='dog'):\n",
    "    \"\"\"Display information about a pet.\"\"\"\n",
    "    print(f\"\\nI have a {animal_type} named {pet_name}.\")\n",
    "    print(f\"\\nI have a {animal_type}.\")\n",
    "    print(f\"My {animal_type}'s name is {pet_name.title()}.\")\n",
    "\n",
    "describe_pet(\"Max\", \"cat\")\n",
    "describe_pet(\"Buddy\")"
   ]
  },
  {
   "cell_type": "code",
   "execution_count": null,
   "id": "dc9f7244",
   "metadata": {},
   "outputs": [],
   "source": [
    "x = 10\n",
    "\n",
    "def my_function():\n",
    "    x = 23\n",
    "    print(f\"Value of x inside the function: {x}\")\n",
    "    \n",
    "my_function()\n",
    "print(f\"Value of x outside the function: {x}\")"
   ]
  },
  {
   "cell_type": "code",
   "execution_count": null,
   "id": "62706411",
   "metadata": {},
   "outputs": [],
   "source": [
    "def calculate_total(price):\n",
    "    return price + (price * tax_rate)"
   ]
  },
  {
   "cell_type": "code",
   "execution_count": 12,
   "id": "00658cbf",
   "metadata": {},
   "outputs": [
    {
     "name": "stdout",
     "output_type": "stream",
     "text": [
      "The product of 5 and 10 is: 50\n"
     ]
    }
   ],
   "source": [
    "def product_of_numbers(a, b):\n",
    "    return a * b\n",
    "\n",
    "print(f\"The product of 5 and 10 is: {product_of_numbers(5, 10)}\")"
   ]
  },
  {
   "cell_type": "code",
   "execution_count": 13,
   "id": "c4b41e77",
   "metadata": {},
   "outputs": [
    {
     "name": "stdout",
     "output_type": "stream",
     "text": [
      "4 is an even number.\n",
      "7 is an odd number.\n"
     ]
    }
   ],
   "source": [
    "def number_info(number):\n",
    "    if number % 2 == 0:\n",
    "        print(f\"{number} is an even number.\")\n",
    "    else:\n",
    "        print(f\"{number} is an odd number.\")\n",
    "\n",
    "number_info(4)\n",
    "number_info(7)"
   ]
  },
  {
   "cell_type": "code",
   "execution_count": 14,
   "id": "adf75e8f",
   "metadata": {},
   "outputs": [
    {
     "name": "stdout",
     "output_type": "stream",
     "text": [
      "The price after a 10% discount on $100 is: $90.0\n"
     ]
    }
   ],
   "source": [
    "def discount_price(price, discount=0.1):\n",
    "    \"\"\"Calculate the price after discount.\"\"\"\n",
    "    return price - (price * discount)\n",
    "print(f\"The price after a 10% discount on $100 is: ${discount_price(100)}\")"
   ]
  }
 ],
 "metadata": {
  "kernelspec": {
   "display_name": "genai_pre",
   "language": "python",
   "name": "python3"
  },
  "language_info": {
   "codemirror_mode": {
    "name": "ipython",
    "version": 3
   },
   "file_extension": ".py",
   "mimetype": "text/x-python",
   "name": "python",
   "nbconvert_exporter": "python",
   "pygments_lexer": "ipython3",
   "version": "3.13.5"
  }
 },
 "nbformat": 4,
 "nbformat_minor": 5
}
