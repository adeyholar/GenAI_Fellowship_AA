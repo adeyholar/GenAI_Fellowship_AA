{
 "cells": [
  {
   "cell_type": "code",
   "execution_count": null,
   "id": "44d029e5",
   "metadata": {},
   "outputs": [],
   "source": [
    "def say_hello():\n",
    "    print(\"Hello, World!\")\n",
    "\n",
    "say_hello()"
   ]
  },
  {
   "cell_type": "code",
   "execution_count": null,
   "id": "432cbca7",
   "metadata": {},
   "outputs": [],
   "source": [
    "def great_person(name):\n",
    "    print(f\"Hello, {name}!\")\n",
    "\n",
    "great_person(\"Alice\")\n",
    "great_person(\"Bob\")"
   ]
  },
  {
   "cell_type": "code",
   "execution_count": null,
   "id": "d6fb0f8c",
   "metadata": {},
   "outputs": [],
   "source": [
    "def add_number(a, b):\n",
    "    result = a + b\n",
    "    return result\n",
    "\n",
    "#Calling the function and printing the result\n",
    "sum = add_number(5, 10)\n",
    "print(f\"The sum of 5 and 10 is: {sum}\")\n",
    "    "
   ]
  }
 ],
 "metadata": {
  "kernelspec": {
   "display_name": "genai_pre",
   "language": "python",
   "name": "python3"
  },
  "language_info": {
   "codemirror_mode": {
    "name": "ipython",
    "version": 3
   },
   "file_extension": ".py",
   "mimetype": "text/x-python",
   "name": "python",
   "nbconvert_exporter": "python",
   "pygments_lexer": "ipython3",
   "version": "3.13.5"
  }
 },
 "nbformat": 4,
 "nbformat_minor": 5
}
