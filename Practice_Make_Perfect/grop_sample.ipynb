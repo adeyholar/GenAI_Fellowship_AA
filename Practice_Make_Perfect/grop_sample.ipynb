{
 "cells": [
  {
   "cell_type": "code",
   "execution_count": 2,
   "id": "1d517693",
   "metadata": {},
   "outputs": [
    {
     "name": "stdout",
     "output_type": "stream",
     "text": [
      "API KEY loaded: True\n",
      "Groq client configured successfully.\n",
      "Response Text: Hello!\n"
     ]
    }
   ],
   "source": [
    "import os\n",
    "from dotenv import load_dotenv\n",
    "from groq import Groq\n",
    "\n",
    "# Load environment variables from .env file import Groq\n",
    "load_dotenv()\n",
    "api_key = os.getenv(\"GROQ_API_KEY\")\n",
    "print(\"API KEY loaded:\", bool(api_key))\n",
    "\n",
    "#Configure the Groq API client\n",
    "try:\n",
    "    client = Groq(api_key=api_key)\n",
    "    print(\"Groq client configured successfully.\")\n",
    "except Exception as e:\n",
    "    print(\"Error configuring Groq client:\", str(e))\n",
    "\n",
    "# Make a simple API call to test the client\n",
    "try:\n",
    "    chat_completion = client.chat.completions.create(\n",
    "        messages=[{\"role\": \"user\", \"content\": \"Hello, Groq! Confirm that the API is working.\"}],\n",
    "        model=\"llama3-8b-8192\"\n",
    "    )\n",
    "    print(\"Response Text:\", chat_completion.choices[0].message.content)\n",
    "except Exception as e:\n",
    "    print(\"Error making API call:\", str(e))"
   ]
  }
 ],
 "metadata": {
  "kernelspec": {
   "display_name": "genai_pre",
   "language": "python",
   "name": "python3"
  },
  "language_info": {
   "codemirror_mode": {
    "name": "ipython",
    "version": 3
   },
   "file_extension": ".py",
   "mimetype": "text/x-python",
   "name": "python",
   "nbconvert_exporter": "python",
   "pygments_lexer": "ipython3",
   "version": "3.13.5"
  }
 },
 "nbformat": 4,
 "nbformat_minor": 5
}
